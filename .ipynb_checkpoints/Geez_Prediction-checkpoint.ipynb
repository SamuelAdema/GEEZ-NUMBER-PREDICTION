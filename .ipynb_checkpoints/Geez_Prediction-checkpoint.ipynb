{
 "cells": [
  {
   "cell_type": "markdown",
   "metadata": {
    "id": "UGJuFi0kcV5L"
   },
   "source": [
    "# WOLKITE UNIVERSITY\n",
    "##COLLEGE OF COMPUTING AND INFORMATICS\n",
    "###DEPARTMENT OF INFORMATION SYSTEMS\n",
    "### COURSE OF ARTIFICIAL INTELLIGENCE\n",
    "####PROJECT: GEEZ NUMBER PREDICTION\n",
    "#####GROUP Five \n",
    "#####1.Eleni Beyene       \n",
    "#####2.Nahom Endalkachew\n",
    "#####3.Robel Aklilu\n",
    "#####4.Elbetel Melaku\n",
    "#####5.Bereket Mekonen\n",
    "#####6.Ayantu Tilahun \n",
    "\n",
    "\n",
    "\n",
    "\n"
   ]
  },
  {
   "cell_type": "markdown",
   "metadata": {
    "id": "LmtAysz6fnYr"
   },
   "source": [
    "#GEEZ NUMBER PREDICTION\n",
    "Geez number prediction is a machine learning task that involves training a model to recognize Geez numbers from images. The model is trained on a dataset of images of Geez numbers, and then it can be used to predict the number in an image. first Learning the  Machine or the Computer with a Dataset and second make test that, Machine or Computer is correctly train or not based on train_set and test_set with the geez number image from geez_numbers, prediction and test directory.  "
   ]
  },
  {
   "cell_type": "code",
   "execution_count": 9,
   "metadata": {
    "id": "xolQ0uoeYZrr"
   },
   "outputs": [],
   "source": [
    "from keras.models import Sequential\n",
    "from keras.layers import Convolution2D\n",
    "from keras.layers import MaxPooling2D\n",
    "from keras.layers import Flatten\n",
    "from keras.layers import Dense\n",
    "from tensorflow.keras.utils import load_img\n",
    "from tensorflow.keras.utils import img_to_array\n",
    "from keras.preprocessing.image import ImageDataGenerator\n",
    "import cv2\n",
    "import numpy as np"
   ]
  },
  {
   "cell_type": "code",
   "execution_count": 10,
   "metadata": {
    "id": "bHuvB57IYr7r"
   },
   "outputs": [],
   "source": [
    "classifier = Sequential()\n",
    "\n",
    "classifier.add(Convolution2D(32,(3,3),padding='same', input_shape = (28, 28, 3), activation = 'relu', data_format='channels_last'))\n",
    "classifier.add(MaxPooling2D(pool_size = (2,2)))\n",
    "classifier.add(Convolution2D(64,(3,3),padding='same', activation = 'relu', data_format='channels_last'))\n",
    "classifier.add(MaxPooling2D(pool_size = (2,2)))\n",
    "\n",
    "classifier.add(Flatten())\n",
    "classifier.add(Dense(128, activation = 'relu'))\n",
    "classifier.add(Dense(9, activation = 'softmax'))\n",
    "\n",
    "classifier.compile(optimizer = 'adam', loss = 'binary_crossentropy', metrics = ['accuracy'])"
   ]
  },
  {
   "cell_type": "code",
   "execution_count": 11,
   "metadata": {
    "colab": {
     "base_uri": "https://localhost:8080/"
    },
    "executionInfo": {
     "elapsed": 387,
     "status": "ok",
     "timestamp": 1622313706813,
     "user": {
      "displayName": "Dejene Tube",
      "photoUrl": "https://lh3.googleusercontent.com/a-/AOh14GirXkekxXZ9O_FvZBkx8bE5C9ukTqPoqbIuMfK3=s64",
      "userId": "12392552897574929171"
     },
     "user_tz": 420
    },
    "id": "TCApGPmaYxKb",
    "outputId": "ff69650e-44f1-49fa-9c75-90fe2532f6b8"
   },
   "outputs": [
    {
     "name": "stdout",
     "output_type": "stream",
     "text": [
      "Found 720 images belonging to 9 classes.\n",
      "Found 180 images belonging to 9 classes.\n"
     ]
    }
   ],
   "source": [
    "datagen = ImageDataGenerator(rescale = 1./255,\n",
    "                             validation_split=0.2,\n",
    "                                shear_range=0.2,\n",
    "                                zoom_range=0.2,\n",
    "                                horizontal_flip=True)\n",
    "\n",
    "\n",
    "training_set  = datagen.flow_from_directory('geez_numbers',\n",
    "                                        subset='training',\n",
    "                                                   target_size=(28,28),\n",
    "                                                   batch_size=32,\n",
    "                                                   class_mode='categorical')\n",
    "test_set  = datagen.flow_from_directory('geez_numbers',\n",
    "                                        subset='validation',\n",
    "                                            target_size=(28,28),\n",
    "                                                batch_size=32,\n",
    "                                                class_mode='categorical')"
   ]
  },
  {
   "cell_type": "code",
   "execution_count": 12,
   "metadata": {
    "id": "2BXcmSptY6Jk"
   },
   "outputs": [],
   "source": [
    "img = load_img('geez_numbers/2/3.jpg')\n",
    "x = img_to_array(img) \n",
    "x = x.reshape((1,) + x.shape) \n",
    "\n",
    "\n",
    "i = 0\n",
    "for batch in datagen.flow(x, batch_size=1,\n",
    "                          save_to_dir='test', save_prefix='IS', save_format='jpg'):\n",
    "    i += 1\n",
    "    if i > 20:\n",
    "        break;"
   ]
  },
  {
   "cell_type": "code",
   "execution_count": 13,
   "metadata": {
    "colab": {
     "base_uri": "https://localhost:8080/"
    },
    "executionInfo": {
     "elapsed": 37669,
     "status": "ok",
     "timestamp": 1622317731727,
     "user": {
      "displayName": "Dejene Tube",
      "photoUrl": "https://lh3.googleusercontent.com/a-/AOh14GirXkekxXZ9O_FvZBkx8bE5C9ukTqPoqbIuMfK3=s64",
      "userId": "12392552897574929171"
     },
     "user_tz": 420
    },
    "id": "h3fxuRNbY81d",
    "outputId": "e13d7688-c40e-4223-b075-49dee48bf5ba",
    "scrolled": true
   },
   "outputs": [
    {
     "name": "stdout",
     "output_type": "stream",
     "text": [
      "Epoch 1/10\n",
      "23/23 [==============================] - 4s 146ms/step - loss: 0.3853 - accuracy: 0.1208\n",
      "Epoch 2/10\n",
      "23/23 [==============================] - 1s 40ms/step - loss: 0.3381 - accuracy: 0.2458\n",
      "Epoch 3/10\n",
      "23/23 [==============================] - 1s 41ms/step - loss: 0.2939 - accuracy: 0.4278\n",
      "Epoch 4/10\n",
      "23/23 [==============================] - 1s 41ms/step - loss: 0.2370 - accuracy: 0.5903\n",
      "Epoch 5/10\n",
      "23/23 [==============================] - 1s 41ms/step - loss: 0.1819 - accuracy: 0.7069\n",
      "Epoch 6/10\n",
      "23/23 [==============================] - 1s 41ms/step - loss: 0.1618 - accuracy: 0.7514\n",
      "Epoch 7/10\n",
      "23/23 [==============================] - 1s 41ms/step - loss: 0.1347 - accuracy: 0.8194\n",
      "Epoch 8/10\n",
      "23/23 [==============================] - 1s 41ms/step - loss: 0.1117 - accuracy: 0.8514\n",
      "Epoch 9/10\n",
      "23/23 [==============================] - 1s 41ms/step - loss: 0.0940 - accuracy: 0.8833\n",
      "Epoch 10/10\n",
      "23/23 [==============================] - 1s 41ms/step - loss: 0.0851 - accuracy: 0.8819\n",
      "                    \n",
      " Trainning Dataset is Successfully\n"
     ]
    }
   ],
   "source": [
    "classifier.fit(training_set,\n",
    "                epochs = 10,\n",
    "                        \n",
    "                        )\n",
    "print(\"                    \")\n",
    "print(\" Trainning Dataset is Successfully\")"
   ]
  },
  {
   "cell_type": "code",
   "execution_count": 14,
   "metadata": {
    "colab": {
     "base_uri": "https://localhost:8080/"
    },
    "executionInfo": {
     "elapsed": 718,
     "status": "ok",
     "timestamp": 1622317684088,
     "user": {
      "displayName": "Dejene Tube",
      "photoUrl": "https://lh3.googleusercontent.com/a-/AOh14GirXkekxXZ9O_FvZBkx8bE5C9ukTqPoqbIuMfK3=s64",
      "userId": "12392552897574929171"
     },
     "user_tz": 420
    },
    "id": "rugcqGxzY938",
    "outputId": "57f3a1a9-0ac5-41ed-9a31-88189e3e9736",
    "scrolled": true
   },
   "outputs": [
    {
     "name": "stdout",
     "output_type": "stream",
     "text": [
      "enter image name: 10\n",
      "1/1 [==============================] - 0s 59ms/step\n",
      "The image which is entered is the number:  [4]\n"
     ]
    }
   ],
   "source": [
    "classifier.compile(optimizer = 'adam', loss = 'binary_crossentropy', metrics = ['accuracy'])\n",
    "\n",
    "image_input = input(\"enter image name: \")\n",
    "\n",
    "image_reader = cv2.imread('prediction/'+image_input+'.jpg')\n",
    "\n",
    "image_reader = np.reshape(image_reader,[1,28,28,3])\n",
    "\n",
    "class1 = np.argmax(classifier.predict(image_reader), axis=-1)\n",
    "\n",
    "geez_no = class1 + 1; \n",
    "\n",
    "print (\"The image which is entered is the number: \",geez_no)\n",
    "\n"
   ]
  },
  {
   "cell_type": "code",
   "execution_count": null,
   "metadata": {},
   "outputs": [],
   "source": []
  },
  {
   "cell_type": "code",
   "execution_count": null,
   "metadata": {},
   "outputs": [],
   "source": []
  }
 ],
 "metadata": {
  "colab": {
   "authorship_tag": "ABX9TyOZ3rB+4OWjZ/DzzP9q3t5e",
   "collapsed_sections": [],
   "mount_file_id": "1XikGwc_042BeL0MMfx7TGsZGoDLg-Xi1",
   "name": "Geez_Prediction.ipynb",
   "provenance": [],
   "toc_visible": true
  },
  "kernelspec": {
   "display_name": "Python 3 (ipykernel)",
   "language": "python",
   "name": "python3"
  },
  "language_info": {
   "codemirror_mode": {
    "name": "ipython",
    "version": 3
   },
   "file_extension": ".py",
   "mimetype": "text/x-python",
   "name": "python",
   "nbconvert_exporter": "python",
   "pygments_lexer": "ipython3",
   "version": "3.9.13"
  }
 },
 "nbformat": 4,
 "nbformat_minor": 1
}
